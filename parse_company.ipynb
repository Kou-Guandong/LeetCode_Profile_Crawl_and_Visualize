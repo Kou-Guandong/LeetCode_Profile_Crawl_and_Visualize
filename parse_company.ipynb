{
 "cells": [
  {
   "cell_type": "code",
   "execution_count": 163,
   "metadata": {},
   "outputs": [],
   "source": [
    "import json\n",
    "\n",
    "with open('google.json') as f:\n",
    "    data = json.loads(f.readlines()[0])\n",
    "\n",
    "questions = data['data']['companyTag']['questions']\n",
    "\n",
    "questions.sort(key=lambda x: int(x['questionFrontendId']))\n",
    "\n",
    "fields = ['question_id', 'title', 'difficulty','tags', 'date']\n",
    "period_text = ['0-6 months', '6-12 months', '1-2 years']\n",
    "with open('google_problems.csv', 'w+') as output:\n",
    "    output.writelines(','.join(fields) + '\\n')\n",
    "    for q in questions:\n",
    "        qid = q['questionFrontendId']\n",
    "        title = q['title']\n",
    "        difficulty = q['difficulty']\n",
    "        tags = ', '.join(list(map(lambda d:d['name'], q['topicTags'])))\n",
    "        period = q['frequencyTimePeriod']-1\n",
    "        period = 2 if period > 2 else period\n",
    "        date = period_text[period]\n",
    "        output.writelines(','.join(map(\n",
    "            lambda x: '\"' + str(x) + '\"', [qid, title, difficulty, tags, date])) + '\\n')"
   ]
  },
  {
   "cell_type": "code",
   "execution_count": null,
   "metadata": {},
   "outputs": [],
   "source": []
  }
 ],
 "metadata": {
  "kernelspec": {
   "display_name": "Python 3",
   "language": "python",
   "name": "python3"
  },
  "language_info": {
   "codemirror_mode": {
    "name": "ipython",
    "version": 3
   },
   "file_extension": ".py",
   "mimetype": "text/x-python",
   "name": "python",
   "nbconvert_exporter": "python",
   "pygments_lexer": "ipython3",
   "version": "3.7.4"
  }
 },
 "nbformat": 4,
 "nbformat_minor": 2
}